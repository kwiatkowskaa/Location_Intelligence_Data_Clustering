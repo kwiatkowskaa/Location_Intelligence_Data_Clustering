{
 "cells": [
  {
   "cell_type": "markdown",
   "id": "13a6d223",
   "metadata": {},
   "source": [
    "# Location Intelligence Data Clustering"
   ]
  },
  {
   "cell_type": "code",
   "execution_count": null,
   "id": "eea4a2e4",
   "metadata": {},
   "outputs": [],
   "source": [
    "import pandas as pd\n",
    "import numpy as np\n",
    "import matplotlib.pyplot as plt\n",
    "import seaborn as sns"
   ]
  },
  {
   "cell_type": "code",
   "execution_count": null,
   "id": "9a2533aa",
   "metadata": {},
   "outputs": [],
   "source": []
  },
  {
   "cell_type": "markdown",
   "id": "69173430",
   "metadata": {},
   "source": [
    "## Modelling"
   ]
  },
  {
   "cell_type": "code",
   "execution_count": null,
   "id": "7f173494",
   "metadata": {},
   "outputs": [],
   "source": [
    "def metrics_plots(X, max_k=10):\n",
    "\n",
    "    score = []\n",
    "    score_kmeans_s = []\n",
    "    score_kmeans_c = []\n",
    "    score_kmeans_d = []\n",
    "\n",
    "    for k in range(2, max_k):\n",
    "        kmeans = KMeans(n_clusters=k, random_state= 101)\n",
    "        predictions = kmeans.fit_predict(X)\n",
    "        # Calculate cluster validation metrics and append to lists of metrics\n",
    "        score.append(kmeans.score(X))\n",
    "        score_kmeans_s.append(silhouette_score(X, kmeans.labels_, metric='euclidean'))\n",
    "        score_kmeans_c.append(calinski_harabasz_score(X, kmeans.labels_))\n",
    "        score_kmeans_d.append(davies_bouldin_score(X, predictions))\n",
    "\n",
    "    list_scores = [score, score_kmeans_s, score_kmeans_c, score_kmeans_d] \n",
    "    # Elbow Method plot\n",
    "    list_title = ['Within-cluster sum of squares', 'Silhouette Score', 'Calinski Harabasz', 'Davies Bouldin'] \n",
    "    for i in range(len(list_scores)):\n",
    "        x_ticks = list(range(2, len(list_scores[i]) + 2))\n",
    "        plt.plot(x_ticks, list_scores[i], 'bx-')\n",
    "        plt.xlabel('k')\n",
    "        plt.ylabel(list_title[i])\n",
    "        plt.title('Optimal k')\n",
    "        plt.show()"
   ]
  },
  {
   "cell_type": "code",
   "execution_count": null,
   "id": "5a892752",
   "metadata": {},
   "outputs": [],
   "source": [
    "metrics_plots(X_train, max_k=15)"
   ]
  },
  {
   "cell_type": "markdown",
   "id": "facd8b3a",
   "metadata": {},
   "source": [
    "#### Results functions"
   ]
  },
  {
   "cell_type": "code",
   "execution_count": null,
   "id": "5d29c2b1",
   "metadata": {},
   "outputs": [],
   "source": [
    "def data_geo(data):\n",
    "    X_train_lat_long = feature_engineering_pipeline.transform(data)\n",
    "    X_train_lat_long = pipeline_preprocessing.fit_transform(X_train_lat_long)\n",
    "    X_train_lat_long = pd.DataFrame(X_train_lat_long, columns=pipeline_preprocessing.named_steps['preprocessor'].get_feature_names_out())\n",
    "    X_train_lat_long = X_train_lat_long[[\"remainder__longitude\", \"remainder__latitude\"]]\n",
    "    return X_train_lat_long\n",
    "\n",
    "def drawMap(data, labels):\n",
    "\n",
    "    gdf = gpd.GeoDataFrame(data, geometry=gpd.points_from_xy(X_train_lat_long['remainder__longitude'], X_train_lat_long['remainder__latitude']))\n",
    "    world = gpd.read_file(gpd.datasets.get_path('naturalearth_lowres'))\n",
    "    world = world[(world.name != \"Antarctica\")]\n",
    "    world.plot(figsize=(15, 7), color='lightgray', edgecolor='white')\n",
    "    gdf.plot(ax=plt.gca(), marker='o', column=labels, markersize=9, legend=True)\n",
    "    plt.title('Businesses on world map')\n",
    "    plt.show()\n",
    "\n",
    "def CountClasters(labels):\n",
    "    df = pd.DataFrame({\"labels\": labels})\n",
    "    value_counts = df[\"labels\"].value_counts()\n",
    "    \n",
    "    plt.figure(figsize=(10, 5))\n",
    "    sns.barplot(x=value_counts.index, y=value_counts.values, palette='viridis')\n",
    "    plt.title('Distribution of Clusters')\n",
    "    plt.xlabel('Cluster number')\n",
    "    plt.ylabel('Number of Bisinesses')\n",
    "    plt.show()\n",
    "\n",
    "def calculateScores(data, labels):\n",
    "    silhouette_avg = silhouette_score(data, labels)\n",
    "    calinski_score = calinski_harabasz_score(data, labels)\n",
    "    davies_bouldin = davies_bouldin_score(data, labels)\n",
    "    Scores = {\n",
    "    'Score name': ['Silhouette Score', 'Calinski-Harabaz Index', 'Davies-Bouldin Index'],\n",
    "    'score value': [silhouette_avg, calinski_score, davies_bouldin]\n",
    "    }\n",
    "\n",
    "    df_scores = pd.DataFrame(Scores)\n",
    "    return df_scores\n"
   ]
  },
  {
   "cell_type": "markdown",
   "id": "c3f100eb",
   "metadata": {},
   "source": [
    "#### KMeans"
   ]
  },
  {
   "cell_type": "code",
   "execution_count": null,
   "id": "6e0a5ce0",
   "metadata": {},
   "outputs": [],
   "source": [
    "kmeans = KMeans(n_clusters=5, random_state=42)\n",
    "kmeans.fit(X_train)\n",
    "labels = kmeans.predict(X_train)"
   ]
  },
  {
   "cell_type": "code",
   "execution_count": null,
   "id": "859a407d",
   "metadata": {},
   "outputs": [],
   "source": [
    "drawMap(X_train, labels)\n",
    "CountClasters(labels)"
   ]
  },
  {
   "cell_type": "markdown",
   "id": "beb31ba5",
   "metadata": {},
   "source": [
    "#### KMedoids"
   ]
  },
  {
   "cell_type": "code",
   "execution_count": null,
   "id": "4550e66a",
   "metadata": {},
   "outputs": [],
   "source": [
    "medoids_model = KMedoids(n_clusters=5, random_state=0)\n",
    "medoids_model.fit(X_train)\n",
    "labels =  medoids_model.predict(X_train)"
   ]
  },
  {
   "cell_type": "code",
   "execution_count": null,
   "id": "cfd1cb99",
   "metadata": {},
   "outputs": [],
   "source": [
    "drawMap(X_train, labels)\n",
    "CountClasters(labels)"
   ]
  },
  {
   "cell_type": "code",
   "execution_count": null,
   "id": "37223717",
   "metadata": {},
   "outputs": [],
   "source": [
    "calculateScores(X_train, labels)"
   ]
  },
  {
   "cell_type": "markdown",
   "id": "e19845e6",
   "metadata": {},
   "source": [
    "#### Single Linkage"
   ]
  },
  {
   "cell_type": "code",
   "execution_count": null,
   "id": "df544966",
   "metadata": {},
   "outputs": [],
   "source": [
    "Z = hierarchy.linkage(X_train, method='single')\n",
    "plt.figure(figsize=(10, 5), dpi= 200, facecolor='w', edgecolor='k')\n",
    "hierarchy.dendrogram(Z)\n",
    "plt.show()"
   ]
  },
  {
   "cell_type": "code",
   "execution_count": null,
   "id": "8874fdd5",
   "metadata": {},
   "outputs": [],
   "source": [
    "plt.figure(figsize=(10, 30), dpi= 200, facecolor='w', edgecolor='k')\n",
    "hierarchy.dendrogram(Z)\n",
    "plt.show()"
   ]
  },
  {
   "cell_type": "code",
   "execution_count": null,
   "id": "7f2306df",
   "metadata": {},
   "outputs": [],
   "source": [
    "model = AgglomerativeClustering(n_clusters=None, linkage='single', distance_threshold=1.4)\n",
    "labels = model.fit_predict(X_train)"
   ]
  },
  {
   "cell_type": "code",
   "execution_count": null,
   "id": "4f0821dd",
   "metadata": {},
   "outputs": [],
   "source": [
    "drawMap(X_train, labels)\n",
    "CountClasters(labels)"
   ]
  },
  {
   "cell_type": "code",
   "execution_count": null,
   "id": "6538fd19",
   "metadata": {},
   "outputs": [],
   "source": [
    "calculateScores(X_train, labels)"
   ]
  },
  {
   "cell_type": "markdown",
   "id": "ffaebd41",
   "metadata": {},
   "source": [
    "#### Complete Linkage"
   ]
  },
  {
   "cell_type": "code",
   "execution_count": null,
   "id": "fb5580e1",
   "metadata": {},
   "outputs": [],
   "source": [
    "Z = hierarchy.linkage(X_train, method='complete')\n",
    "plt.figure(figsize=(10, 20), dpi= 200, facecolor='w', edgecolor='k')\n",
    "hierarchy.dendrogram(Z)\n",
    "plt.show()"
   ]
  },
  {
   "cell_type": "code",
   "execution_count": null,
   "id": "ab12e789",
   "metadata": {},
   "outputs": [],
   "source": [
    "model = AgglomerativeClustering(n_clusters=None, linkage='complete', distance_threshold=4)\n",
    "labels = model.fit_predict(X_train)"
   ]
  },
  {
   "cell_type": "code",
   "execution_count": null,
   "id": "24668ec9",
   "metadata": {},
   "outputs": [],
   "source": [
    "drawMap(X_train, labels)\n",
    "CountClasters(labels)"
   ]
  },
  {
   "cell_type": "code",
   "execution_count": null,
   "id": "db1b7684",
   "metadata": {},
   "outputs": [],
   "source": [
    "calculateScores(X_train, labels)"
   ]
  }
 ],
 "metadata": {
  "kernelspec": {
   "display_name": "Python 3 (ipykernel)",
   "language": "python",
   "name": "python3"
  },
  "language_info": {
   "codemirror_mode": {
    "name": "ipython",
    "version": 3
   },
   "file_extension": ".py",
   "mimetype": "text/x-python",
   "name": "python",
   "nbconvert_exporter": "python",
   "pygments_lexer": "ipython3",
   "version": "3.11.5"
  }
 },
 "nbformat": 4,
 "nbformat_minor": 5
}
